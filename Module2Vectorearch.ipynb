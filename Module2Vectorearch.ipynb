{
  "cells": [
    {
      "cell_type": "markdown",
      "metadata": {
        "id": "view-in-github",
        "colab_type": "text"
      },
      "source": [
        "<a href=\"https://colab.research.google.com/github/Jasmine25005/LLM-ZoomCamp/blob/main/Module2Vectorearch.ipynb\" target=\"_parent\"><img src=\"https://colab.research.google.com/assets/colab-badge.svg\" alt=\"Open In Colab\"/></a>"
      ]
    },
    {
      "cell_type": "code",
      "execution_count": null,
      "id": "f0db64b2",
      "metadata": {
        "id": "f0db64b2"
      },
      "outputs": [],
      "source": [
        "import numpy as np\n",
        "from fastembed import TextEmbedding\n",
        "\n",
        "\n",
        "embedding_model = TextEmbedding(model_name=\"jinaai/jina-embeddings-v2-small-en\")\n",
        "\n",
        "query = 'I just discovered the course. Can I join now?'\n",
        "\n",
        "query_embedding = list(embedding_model.embed([query]))[0]\n",
        "\n",
        "print(f\"Vector's size: {query_embedding.shape}\")\n",
        "\n",
        "min_value = np.min(query_embedding)\n",
        "print(f\"Smallest value in the victor: {min_value}\")"
      ]
    },
    {
      "cell_type": "code",
      "execution_count": null,
      "id": "37495c84",
      "metadata": {
        "id": "37495c84"
      },
      "outputs": [],
      "source": [
        "doc_text = 'Can I still join the course after the start date?'\n",
        "\n",
        "# Convert generator to list before indexing\n",
        "doc_embedding = list(embedding_model.embed([doc_text]))[0]\n",
        "\n",
        "similarity = np.dot(query_embedding, doc_embedding)\n",
        "\n",
        "print(f\"Cosine Similarity:  {similarity}\")"
      ]
    },
    {
      "cell_type": "code",
      "execution_count": null,
      "id": "03bae83b",
      "metadata": {
        "id": "03bae83b"
      },
      "outputs": [],
      "source": [
        "documents = [\n",
        "    {'text': \"Yes, even if you don't register, you're still eligible to submit the homeworks.\\nBe aware, however, that there will be deadlines for turning in the final projects. So don't leave everything for the last minute.\", 'section': 'General course-related questions', 'question': 'Course - Can I still join the course after the start date?', 'course': 'data-engineering-zoomcamp'},\n",
        "    {'text': 'Yes, we will keep all the materials after the course finishes, so you can follow the course at your own pace after it finishes.\\nYou can also continue looking at the homeworks and continue preparing for the next cohort. I guess you can also start working on your final capstone project.', 'section': 'General course-related questions', 'question': 'Course - Can I follow the course after it finishes?', 'course': 'data-engineering-zoomcamp'},\n",
        "    {'text': \"The purpose of this document is to capture frequently asked technical questions\\nThe exact day and hour of the course will be 15th Jan 2024 at 17h00. The course will start with the first “Office Hours'' live.1\\nSubscribe to course public Google Calendar (it works from Desktop only).\\nRegister before the course starts using this link.\\nJoin the course Telegram channel with announcements.\\nDon’t forget to register in DataTalks.Club's Slack and join the channel.\", 'section': 'General course-related questions', 'question': 'Course - When will the course start?', 'course': 'data-engineering-zoomcamp'},\n",
        "    {'text': 'You can start by installing and setting up all the dependencies and requirements:\\nGoogle cloud account\\nGoogle Cloud SDK\\nPython 3 (installed with Anaconda)\\nTerraform\\nGit\\nLook over the prerequisites and syllabus to see if you are comfortable with these subjects.', 'section': 'General course-related questions', 'question': 'Course - What can I do before the course starts?', 'course': 'data-engineering-zoomcamp'},\n",
        "    {'text': 'Star the repo! Share it with friends if you find it useful ❣️\\nCreate a PR if you see you can improve the text or the structure of the repository.', 'section': 'General course-related questions', 'question': 'How can we contribute to the course?', 'course': 'data-engineering-zoomcamp'}\n",
        "]\n",
        "\n",
        "\n",
        "texts = [doc['text'] for doc in documents]\n",
        "\n",
        "doc_embeddings = list(embedding_model.embed(texts))\n",
        "\n",
        "V = np.array(doc_embeddings)\n",
        "\n",
        "scores = V.dot(query_embedding)\n",
        "\n",
        "highest_score_index = np.argmax(scores)\n",
        "\n",
        "print(f\"Simillarity degress: {scores}\")\n",
        "print(f\"index of highest similarity: {highest_score_index}\")"
      ]
    },
    {
      "cell_type": "code",
      "execution_count": null,
      "id": "4a0347ef",
      "metadata": {
        "id": "4a0347ef"
      },
      "outputs": [],
      "source": [
        "\n",
        "full_texts = [f\"{doc['question']} {doc['text']}\" for doc in documents]\n",
        "\n",
        "full_text_embeddings = list(embedding_model.embed(full_texts))\n",
        "\n",
        "V_full = np.array(full_text_embeddings)\n",
        "\n",
        "scores_full = V_full.dot(query_embedding)\n",
        "\n",
        "highest_score_index_full = np.argmax(scores_full)\n",
        "\n",
        "print(f\"Degree of similarity: {scores_full}\")\n",
        "print(f\"The index of highest similarity: {highest_score_index_full}\")"
      ]
    },
    {
      "cell_type": "code",
      "execution_count": null,
      "id": "0087eee8",
      "metadata": {
        "id": "0087eee8"
      },
      "outputs": [],
      "source": [
        "from fastembed import TextEmbedding\n",
        "\n",
        "embedder = TextEmbedding(model_name=\"BAAI/bge-small-en\")\n",
        "\n",
        "# There is no callable interface for TextEmbedding to list models.\n",
        "# If you want to print the model name and dimension, you can access the attributes directly.\n",
        "print(f\"Model: {embedder.model_name}\")\n",
        "\n",
        "# If you want to check the embedding dimension, you can embed a sample and check its shape:\n",
        "sample_embedding = list(embedder.embed([\"sample text\"]))[0]\n",
        "print(f\"Dimensions: {sample_embedding.shape[0]}\")\n",
        "\n"
      ]
    },
    {
      "cell_type": "code",
      "execution_count": null,
      "id": "699416d4",
      "metadata": {
        "id": "699416d4"
      },
      "outputs": [],
      "source": [
        "from fastembed import TextEmbedding\n",
        "from qdrant_client import QdrantClient\n",
        "from qdrant_client.http.models import PointStruct, VectorParams, Distance, CollectionStatus\n",
        "import requests\n",
        "\n",
        "# Step 1: Load documents\n",
        "docs_url = 'https://github.com/alexeygrigorev/llm-rag-workshop/raw/main/notebooks/documents.json'\n",
        "documents_raw = requests.get(docs_url).json()\n",
        "\n",
        "documents = []\n",
        "for course in documents_raw:\n",
        "    if course['course'] != 'machine-learning-zoomcamp':\n",
        "        continue\n",
        "    for doc in course['documents']:\n",
        "        doc['course'] = course['course']\n",
        "        documents.append(doc)\n",
        "\n",
        "# Step 2: Initialize embedding model and Qdrant client\n",
        "model_name = 'BAAI/bge-small-en'\n",
        "embedder = TextEmbedding(model_name=model_name)\n",
        "\n",
        "client = QdrantClient(\":memory:\")  # in-memory; replace with host/port if persistent\n",
        "\n",
        "# Step 3: Create Qdrant collection\n",
        "collection_name = \"faq_collection\"\n",
        "client.recreate_collection(\n",
        "    collection_name=collection_name,\n",
        "    vectors_config=VectorParams(size=384, distance=Distance.COSINE)\n",
        ")\n",
        "\n",
        "# Step 4: Insert documents\n",
        "texts = [f\"{doc['question']} {doc['text']}\" for doc in documents]\n",
        "embeddings = list(embedder.embed(texts))\n",
        "\n",
        "points = [\n",
        "    PointStruct(id=i, vector=embeddings[i], payload=documents[i])\n",
        "    for i in range(len(documents))\n",
        "]\n",
        "\n",
        "client.upsert(collection_name=collection_name, points=points)\n",
        "\n",
        "# Step 5: Query with question\n",
        "query = \"I just discovered the course. Can I join now?\"\n",
        "query_vector = list(embedder.embed([query]))[0]\n",
        "\n",
        "search_result = client.search(\n",
        "    collection_name=collection_name,\n",
        "    query_vector=query_vector,\n",
        "    limit=1\n",
        ")\n",
        "\n",
        "print(\"Top Score:\", search_result[0].score)"
      ]
    },
    {
      "cell_type": "code",
      "source": [
        "%pip install fastembed"
      ],
      "metadata": {
        "id": "T2JVF79zo-BG"
      },
      "id": "T2JVF79zo-BG",
      "execution_count": null,
      "outputs": []
    },
    {
      "cell_type": "code",
      "source": [
        "%pip install qdrant-client"
      ],
      "metadata": {
        "id": "5q4Inn2eo9sr"
      },
      "id": "5q4Inn2eo9sr",
      "execution_count": null,
      "outputs": []
    },
    {
      "cell_type": "code",
      "execution_count": null,
      "id": "a6114184",
      "metadata": {
        "id": "a6114184"
      },
      "outputs": [],
      "source": [
        "from fastembed import TextEmbedding\n",
        "from qdrant_client import QdrantClient\n",
        "from qdrant_client.models import VectorParams, Distance, PointStruct\n",
        "import requests\n",
        "\n",
        "# 1. Download and filter ML Zoomcamp documents\n",
        "url = \"https://github.com/alexeygrigorev/llm-rag-workshop/raw/main/notebooks/documents.json\"\n",
        "docs = [doc for c in requests.get(url).json() if c[\"course\"] == \"machine-learning-zoomcamp\" for doc in c[\"documents\"]]\n",
        "\n",
        "# 2. Prepare text: combine question and answer\n",
        "texts = [doc[\"question\"] + \" \" + doc[\"text\"] for doc in docs]\n",
        "\n",
        "# 3. Embed the texts using a small embedding model\n",
        "embedder = TextEmbedding(\"BAAI/bge-small-en\")\n",
        "vectors = list(embedder.embed(texts))\n",
        "\n",
        "# 4. Index vectors in an in-memory Qdrant collection\n",
        "client = QdrantClient(\":memory:\")\n",
        "client.recreate_collection(\"faq\", vectors_config=VectorParams(size=384, distance=Distance.COSINE))\n",
        "client.upsert(\"faq\", [PointStruct(id=i, vector=vectors[i], payload={\"text\": texts[i]}) for i in range(len(texts))])\n",
        "\n",
        "# 5. Embed the query\n",
        "query = \"I just discovered the course. Can I join now?\"\n",
        "query_vector = list(embedder.embed([query]))[0]\n",
        "\n",
        "# 6. Search and print top result score\n",
        "results = client.search(\"faq\", query_vector=query_vector, limit=1)\n",
        "print(\"✅ Top match score:\", round(results[0].score, 2))"
      ]
    }
  ],
  "metadata": {
    "kernelspec": {
      "display_name": "Python 3",
      "language": "python",
      "name": "python3"
    },
    "language_info": {
      "codemirror_mode": {
        "name": "ipython",
        "version": 3
      },
      "file_extension": ".py",
      "mimetype": "text/x-python",
      "name": "python",
      "nbconvert_exporter": "python",
      "pygments_lexer": "ipython3",
      "version": "3.12.4"
    },
    "colab": {
      "provenance": [],
      "include_colab_link": true
    }
  },
  "nbformat": 4,
  "nbformat_minor": 5
}